{
 "cells": [
  {
   "cell_type": "markdown",
   "id": "7d320bad",
   "metadata": {},
   "source": [
    "# Exmaple"
   ]
  },
  {
   "cell_type": "markdown",
   "id": "0bcd6838",
   "metadata": {},
   "source": [
    "Model the joint volatility of “300760.XSHE(迈瑞医疗)” and “000796.XSHE(凯撒旅业)”  by vech GARCH, CCC and DCC."
   ]
  },
  {
   "cell_type": "code",
   "execution_count": 1,
   "id": "627e89f8",
   "metadata": {},
   "outputs": [],
   "source": [
    "import vgarch\n",
    "import pandas as pd\n",
    "import numpy as np\n",
    "import matplotlib.pyplot as plt"
   ]
  },
  {
   "cell_type": "code",
   "execution_count": 2,
   "id": "caf51b6d",
   "metadata": {},
   "outputs": [
    {
     "data": {
      "text/html": [
       "<div>\n",
       "<style scoped>\n",
       "    .dataframe tbody tr th:only-of-type {\n",
       "        vertical-align: middle;\n",
       "    }\n",
       "\n",
       "    .dataframe tbody tr th {\n",
       "        vertical-align: top;\n",
       "    }\n",
       "\n",
       "    .dataframe thead th {\n",
       "        text-align: right;\n",
       "    }\n",
       "</style>\n",
       "<table border=\"1\" class=\"dataframe\">\n",
       "  <thead>\n",
       "    <tr style=\"text-align: right;\">\n",
       "      <th></th>\n",
       "      <th>order_book_id</th>\n",
       "      <th>date</th>\n",
       "      <th>close</th>\n",
       "    </tr>\n",
       "  </thead>\n",
       "  <tbody>\n",
       "    <tr>\n",
       "      <th>0</th>\n",
       "      <td>000002.XSHG</td>\n",
       "      <td>2000/1/4</td>\n",
       "      <td>1494.49</td>\n",
       "    </tr>\n",
       "    <tr>\n",
       "      <th>1</th>\n",
       "      <td>000002.XSHG</td>\n",
       "      <td>2000/1/5</td>\n",
       "      <td>1498.04</td>\n",
       "    </tr>\n",
       "    <tr>\n",
       "      <th>2</th>\n",
       "      <td>000002.XSHG</td>\n",
       "      <td>2000/1/6</td>\n",
       "      <td>1555.94</td>\n",
       "    </tr>\n",
       "    <tr>\n",
       "      <th>3</th>\n",
       "      <td>000002.XSHG</td>\n",
       "      <td>2000/1/7</td>\n",
       "      <td>1611.80</td>\n",
       "    </tr>\n",
       "    <tr>\n",
       "      <th>4</th>\n",
       "      <td>000002.XSHG</td>\n",
       "      <td>2000/1/10</td>\n",
       "      <td>1642.52</td>\n",
       "    </tr>\n",
       "    <tr>\n",
       "      <th>...</th>\n",
       "      <td>...</td>\n",
       "      <td>...</td>\n",
       "      <td>...</td>\n",
       "    </tr>\n",
       "    <tr>\n",
       "      <th>11395</th>\n",
       "      <td>000796.XSHE</td>\n",
       "      <td>2021/12/3</td>\n",
       "      <td>7.40</td>\n",
       "    </tr>\n",
       "    <tr>\n",
       "      <th>11396</th>\n",
       "      <td>000796.XSHE</td>\n",
       "      <td>2021/12/6</td>\n",
       "      <td>7.12</td>\n",
       "    </tr>\n",
       "    <tr>\n",
       "      <th>11397</th>\n",
       "      <td>000796.XSHE</td>\n",
       "      <td>2021/12/7</td>\n",
       "      <td>7.11</td>\n",
       "    </tr>\n",
       "    <tr>\n",
       "      <th>11398</th>\n",
       "      <td>000796.XSHE</td>\n",
       "      <td>2021/12/8</td>\n",
       "      <td>7.15</td>\n",
       "    </tr>\n",
       "    <tr>\n",
       "      <th>11399</th>\n",
       "      <td>000796.XSHE</td>\n",
       "      <td>2021/12/9</td>\n",
       "      <td>7.44</td>\n",
       "    </tr>\n",
       "  </tbody>\n",
       "</table>\n",
       "<p>11400 rows × 3 columns</p>\n",
       "</div>"
      ],
      "text/plain": [
       "      order_book_id       date    close\n",
       "0       000002.XSHG   2000/1/4  1494.49\n",
       "1       000002.XSHG   2000/1/5  1498.04\n",
       "2       000002.XSHG   2000/1/6  1555.94\n",
       "3       000002.XSHG   2000/1/7  1611.80\n",
       "4       000002.XSHG  2000/1/10  1642.52\n",
       "...             ...        ...      ...\n",
       "11395   000796.XSHE  2021/12/3     7.40\n",
       "11396   000796.XSHE  2021/12/6     7.12\n",
       "11397   000796.XSHE  2021/12/7     7.11\n",
       "11398   000796.XSHE  2021/12/8     7.15\n",
       "11399   000796.XSHE  2021/12/9     7.44\n",
       "\n",
       "[11400 rows x 3 columns]"
      ]
     },
     "execution_count": 2,
     "metadata": {},
     "output_type": "execute_result"
    }
   ],
   "source": [
    "#upload data\n",
    "data=pd.read_csv(\"datapro.csv\")\n",
    "#select the columns we are going to use in the subsequent analysis\n",
    "data=data[[\"order_book_id\",\"date\",\"close\"]]\n",
    "#drop nan values\n",
    "data.dropna(inplace=True)\n",
    "data"
   ]
  },
  {
   "cell_type": "code",
   "execution_count": 3,
   "id": "266703a6",
   "metadata": {},
   "outputs": [],
   "source": [
    "stock_data={}\n",
    "for code,df in data.groupby(\"order_book_id\"):\n",
    "    df[\"return\"]=df[\"close\"].pct_change()\n",
    "    df[\"returnSquare\"]=df[\"return\"]**2\n",
    "    df.dropna(inplace=True)\n",
    "    df=df.set_index(pd.to_datetime(df[\"date\"]))\n",
    "    stock_data[code]=df"
   ]
  },
  {
   "cell_type": "code",
   "execution_count": 4,
   "id": "18eaa24b",
   "metadata": {},
   "outputs": [],
   "source": [
    "data={\"r1\":stock_data[\"300760.XSHE\"][\"return\"],\"r2\":stock_data[\"000796.XSHE\"][\"return\"]}\n",
    "datpd.DataFrame(data).dropna()"
   ]
  },
  {
   "cell_type": "code",
   "execution_count": 5,
   "id": "a0bc0ad5",
   "metadata": {},
   "outputs": [
    {
     "data": {
      "text/html": [
       "<div>\n",
       "<style scoped>\n",
       "    .dataframe tbody tr th:only-of-type {\n",
       "        vertical-align: middle;\n",
       "    }\n",
       "\n",
       "    .dataframe tbody tr th {\n",
       "        vertical-align: top;\n",
       "    }\n",
       "\n",
       "    .dataframe thead th {\n",
       "        text-align: right;\n",
       "    }\n",
       "</style>\n",
       "<table border=\"1\" class=\"dataframe\">\n",
       "  <thead>\n",
       "    <tr style=\"text-align: right;\">\n",
       "      <th></th>\n",
       "      <th>r1</th>\n",
       "      <th>r2</th>\n",
       "    </tr>\n",
       "    <tr>\n",
       "      <th>date</th>\n",
       "      <th></th>\n",
       "      <th></th>\n",
       "    </tr>\n",
       "  </thead>\n",
       "  <tbody>\n",
       "    <tr>\n",
       "      <th>2018-10-17</th>\n",
       "      <td>0.100043</td>\n",
       "      <td>0.004959</td>\n",
       "    </tr>\n",
       "    <tr>\n",
       "      <th>2018-10-18</th>\n",
       "      <td>0.047477</td>\n",
       "      <td>-0.052632</td>\n",
       "    </tr>\n",
       "    <tr>\n",
       "      <th>2018-10-19</th>\n",
       "      <td>0.100037</td>\n",
       "      <td>0.039931</td>\n",
       "    </tr>\n",
       "    <tr>\n",
       "      <th>2018-10-22</th>\n",
       "      <td>0.100033</td>\n",
       "      <td>0.033389</td>\n",
       "    </tr>\n",
       "    <tr>\n",
       "      <th>2018-10-23</th>\n",
       "      <td>-0.033475</td>\n",
       "      <td>0.000000</td>\n",
       "    </tr>\n",
       "  </tbody>\n",
       "</table>\n",
       "</div>"
      ],
      "text/plain": [
       "                  r1        r2\n",
       "date                          \n",
       "2018-10-17  0.100043  0.004959\n",
       "2018-10-18  0.047477 -0.052632\n",
       "2018-10-19  0.100037  0.039931\n",
       "2018-10-22  0.100033  0.033389\n",
       "2018-10-23 -0.033475  0.000000"
      ]
     },
     "execution_count": 5,
     "metadata": {},
     "output_type": "execute_result"
    }
   ],
   "source": [
    "data.head()"
   ]
  },
  {
   "cell_type": "markdown",
   "id": "6eda6954",
   "metadata": {},
   "source": [
    "### VECH GARCH"
   ]
  },
  {
   "cell_type": "markdown",
   "id": "5943b57e",
   "metadata": {},
   "source": [
    "VECH．GARCH(1，1) Model:"
   ]
  },
  {
   "cell_type": "markdown",
   "id": "2ce00ef9",
   "metadata": {},
   "source": [
    "$$\\left[\\begin{array}{ll}\n",
    "\\sigma_{11,t}^{2} & \\sigma_{12,t} \\\\\n",
    "\\sigma_{12,t} & \\sigma_{22,t}^{2}\n",
    "\\end{array}\\right]=\\left[\\begin{array}{ll}\n",
    "a_{1} & a_{2} \\\\\n",
    "a_{2} & a_{3}\n",
    "\\end{array}\\right]+\\left[\\begin{array}{ll}\n",
    "\\alpha_{1} & \\alpha_{2} \\\\\n",
    "\\alpha_{2} & \\alpha_{3}\n",
    "\\end{array}\\right] \\cdot\\left[\\begin{array}{lc}\n",
    "u_{1 t-1}^{2} & u_{1 t-1} u_{2 t-1} \\\\\n",
    "u_{1 t-1} u_{2 t-1} & u_{2 t-1}^{2}\n",
    "\\end{array}\\right]+\\left[\\begin{array}{ll}\n",
    "\\beta_{1} & \\beta_{2} \\\\\n",
    "\\beta_{2} & \\beta_{3}\n",
    "\\end{array}\\right] \\cdot\\left[\\begin{array}{ll}\n",
    "\\sigma_{11,t-1}^{2} & \\sigma_{12,t-1} \\\\\n",
    "\\sigma_{12,t-1} & \\sigma_{22,t-1}^{2}\n",
    "\\end{array}\\right]$$"
   ]
  },
  {
   "cell_type": "code",
   "execution_count": 7,
   "id": "0e78b4ff",
   "metadata": {},
   "outputs": [
    {
     "name": "stderr",
     "output_type": "stream",
     "text": [
      "C:\\Users\\wly\\AppData\\Roaming\\Python\\Python39\\site-packages\\scipy\\optimize\\_optimize.py:284: RuntimeWarning: Values in x were outside bounds during a minimize step, clipping to bounds\n",
      "  warnings.warn(\"Values in x were outside bounds during a \"\n"
     ]
    }
   ],
   "source": [
    "\n",
    "    vol1 = vgarch.VECH()\n",
    "    est1 = vol1.fit(data)\n",
    "    pre1.append(vol1.predict(1)[:,0,1][0])"
   ]
  },
  {
   "cell_type": "code",
   "execution_count": 8,
   "id": "ff0ceb2f",
   "metadata": {},
   "outputs": [
    {
     "data": {
      "text/plain": [
       "array([9.99598724e-05, 9.99598724e-05, 5.05289252e-04, 1.04012765e-02,\n",
       "       1.04012765e-02, 1.04012765e-02, 8.99635204e-01, 7.99675737e-01,\n",
       "       9.00040533e-01])"
      ]
     },
     "execution_count": 8,
     "metadata": {},
     "output_type": "execute_result"
    }
   ],
   "source": [
    "vol1.params"
   ]
  },
  {
   "cell_type": "markdown",
   "id": "dce873fe",
   "metadata": {},
   "source": [
    "The estimation result is :"
   ]
  },
  {
   "cell_type": "markdown",
   "id": "ebba2617",
   "metadata": {},
   "source": [
    "$$\\left[\\begin{array}{ll}\n",
    "\\sigma_{11,t}^{2} & \\sigma_{12,t} \\\\\n",
    "\\sigma_{12,t} & \\sigma_{22,t}^{2}\n",
    "\\end{array}\\right]=\\left[\\begin{array}{ll}\n",
    "0.000099 & 0.000099 \\\\\n",
    "0.000099 & 0.000595\n",
    "\\end{array}\\right]+\\left[\\begin{array}{ll}\n",
    "0.0104 & 0.0104 \\\\\n",
    "0.0104 & 0.0104\n",
    "\\end{array}\\right] \\cdot\\left[\\begin{array}{lc}\n",
    "u_{1 t-1}^{2} & u_{1 t-1} u_{2 t-1} \\\\\n",
    "u_{1 t-1} u_{2 t-1} & u_{2 t-1}^{2}\n",
    "\\end{array}\\right]+\\left[\\begin{array}{ll}\n",
    "0.8996 & 0.7997 \\\\\n",
    "0.7997 & 0.9000\n",
    "\\end{array}\\right] \\cdot\\left[\\begin{array}{ll}\n",
    "\\sigma_{11,t-1}^{2} & \\sigma_{12,t-1} \\\\\n",
    "\\sigma_{12,t-1} & \\sigma_{22,t-1}^{2}\n",
    "\\end{array}\\right]$$"
   ]
  },
  {
   "cell_type": "code",
   "execution_count": 9,
   "id": "224fdb5e",
   "metadata": {},
   "outputs": [
    {
     "data": {
      "image/png": "[encoded data removed]",
      "text/plain": [
       "<Figure size 1080x360 with 1 Axes>"
      ]
     },
     "metadata": {
      "needs_background": "light"
     },
     "output_type": "display_data"
    }
   ],
   "source": [
    "plt.figure(figsize=(15,5))\n",
    "x=test.index\n",
    "plt.plot(x,pre1,'r',label='predict_covariance(VECH GARCH)')\n",
    "plt.legend()\n",
    "plt.show()"
   ]
  },
  {
   "cell_type": "markdown",
   "id": "5a31a8e7",
   "metadata": {},
   "source": [
    "### CCC"
   ]
  },
  {
   "cell_type": "markdown",
   "id": "eb9a6412",
   "metadata": {},
   "source": [
    "$$H_{t}=\\left[\\begin{array}{cc}\n",
    "\\sigma_{1,t} & 0 \\\\\n",
    "0 & \\sigma_{2, t}\n",
    "\\end{array}\\right]\\left[\\begin{array}{cc}\n",
    "1 & \\rho \\\\\n",
    "\\rho & 1\n",
    "\\end{array}\\right]\\left[\\begin{array}{cc}\n",
    "\\sigma_{1, t} & 0 \\\\\n",
    "0 & \\sigma_{2 m, t}\n",
    "\\end{array}\\right]$$"
   ]
  },
  {
   "cell_type": "markdown",
   "id": "5e2dfe20",
   "metadata": {},
   "source": [
    "Where"
   ]
  },
  {
   "cell_type": "markdown",
   "id": "e497c748",
   "metadata": {},
   "source": [
    "$$\\sigma_{1, t}^{2}=\\omega_{1}+\\alpha_{1} \\cdot r_{1, t-1}^{2}+\\beta_{1} \\cdot \\sigma_{1, t-1}^{2}$$"
   ]
  },
  {
   "cell_type": "markdown",
   "id": "9e028dab",
   "metadata": {},
   "source": [
    "$$\\sigma_{2, t}^{2}=\\omega_{2}+\\alpha_{2} \\cdot r_{2, t-1}^{2}+\\beta_{2} \\cdot \\sigma_{2, t-1}^{2}$$"
   ]
  },
  {
   "cell_type": "code",
   "execution_count": 10,
   "id": "609407fa",
   "metadata": {},
   "outputs": [],
   "source": [
    "pre2=[]\n",
    "for i in range(10):\n",
    "    data=df[:-10+i]\n",
    "    vol2 = vgarch.CCC()\n",
    "    est2 = vol2.fit(data)\n",
    "    pre2.append(vol2.predict(1)[:,0,1][0])"
   ]
  },
  {
   "cell_type": "code",
   "execution_count": 11,
   "id": "3ace824c",
   "metadata": {},
   "outputs": [
    {
     "data": {
      "text/plain": [
       "[array([3.60905901e-05, 4.75550973e-02, 8.04281876e-01]),\n",
       " array([1.39312371e-04, 1.12176814e-01, 5.50211705e-01])]"
      ]
     },
     "execution_count": 11,
     "metadata": {},
     "output_type": "execute_result"
    }
   ],
   "source": [
    "vol2.params"
   ]
  },
  {
   "cell_type": "markdown",
   "id": "c34a3508",
   "metadata": {},
   "source": [
    "The estimation result is :"
   ]
  },
  {
   "cell_type": "markdown",
   "id": "18597493",
   "metadata": {},
   "source": [
    "$$\\sigma_{1, t}^{2}=0.000036+0.0476 \\cdot r_{1, t-1}^{2}+0.804 \\cdot \\sigma_{1, t-1}^{2}$$"
   ]
  },
  {
   "cell_type": "markdown",
   "id": "a1836240",
   "metadata": {},
   "source": [
    "$$\\sigma_{2, t}^{2}=0.000139+0.1122 \\cdot r_{2, t-1}^{2}+0.5502 \\cdot \\sigma_{2, t-1}^{2}$$"
   ]
  },
  {
   "cell_type": "code",
   "execution_count": 12,
   "id": "e88a8541",
   "metadata": {},
   "outputs": [
    {
     "data": {
      "image/png": "[encoded data removed]",
      "text/plain": [
       "<Figure size 1080x360 with 1 Axes>"
      ]
     },
     "metadata": {
      "needs_background": "light"
     },
     "output_type": "display_data"
    }
   ],
   "source": [
    "plt.figure(figsize=(15,5))\n",
    "x=test.index\n",
    "plt.plot(x,pre2,'r',label='predict_covariance(CCC)')\n",
    "plt.legend()\n",
    "plt.show()"
   ]
  },
  {
   "cell_type": "markdown",
   "id": "0d038d32",
   "metadata": {},
   "source": [
    "### DCC"
   ]
  },
  {
   "cell_type": "markdown",
   "id": "488fb1ca",
   "metadata": {},
   "source": [
    "$$H_{t}=\\left[\\begin{array}{cc}\n",
    "\\sigma_{s p, t} & 0 \\\\\n",
    "0 & \\sigma_{j p m, t}\n",
    "\\end{array}\\right]\\left[\\begin{array}{cc}\n",
    "1 & \\rho_{t} \\\\\n",
    "\\rho_{t} & 1\n",
    "\\end{array}\\right]\\left[\\begin{array}{cc}\n",
    "\\sigma_{s p, t} & 0 \\\\\n",
    "0 & \\sigma_{j p m, t}\n",
    "\\end{array}\\right]=\\left[\\begin{array}{cc}\n",
    "\\sigma_{s p, t} & 0 \\\\\n",
    "0 & \\sigma_{j p m, t}\n",
    "\\end{array}\\right] R_{t}\\left[\\begin{array}{cc}\n",
    "\\sigma_{s p, t} & 0 \\\\\n",
    "0 & \\sigma_{j p m, t}\n",
    "\\end{array}\\right]$$"
   ]
  },
  {
   "cell_type": "markdown",
   "id": "1b02f7b3",
   "metadata": {},
   "source": [
    "$$R_{t}=\\left[\\begin{array}{cc}\n",
    "\\frac{1}{\\sqrt{q 11, t}} & 0 \\\\\n",
    "0 & \\frac{1}{\\sqrt{q 22, t}}\n",
    "\\end{array}\\right]\\left[\\begin{array}{cc}\n",
    "q_{11, t} & q_{12, t} \\\\\n",
    "q_{12, t} & q_{22, t}\n",
    "\\end{array}\\right]\\left[\\begin{array}{cc}\n",
    "\\frac{1}{\\sqrt{q 11, t}} & 0 \\\\\n",
    "0 & \\frac{1}{\\sqrt{q 22, t}}\n",
    "\\end{array}\\right]=\\left[\\begin{array}{cc}\n",
    "\\frac{1}{\\sqrt{q 11, t}} & 0 \\\\\n",
    "0 & \\frac{1}{\\sqrt{q 22 t}}\n",
    "\\end{array}\\right] Q_{t}\\left[\\begin{array}{cc}\n",
    "\\frac{1}{\\sqrt{q 111, t}} & 0 \\\\\n",
    "0 & \\frac{1}{\\sqrt{q 22 t}}\n",
    "\\end{array}\\right]$$"
   ]
  },
  {
   "cell_type": "markdown",
   "id": "6bf46ac4",
   "metadata": {},
   "source": [
    "$$Q_{t}=(1-a-b) \\cdot \\bar{Q}+a \\cdot \\epsilon_{t-1} \\epsilon_{t-1}^{\\prime}+b \\cdot Q_{t-1}$$"
   ]
  },
  {
   "cell_type": "markdown",
   "id": "c69bdfdd",
   "metadata": {},
   "source": [
    "$$\\bar{Q}=\\frac{1}{T} \\sum_{t=1}^{T} \\epsilon_{t} \\epsilon_{t}^{\\prime}, \\quad \\epsilon_{t}=\\left[\\begin{array}{c}\n",
    "r_{1, t} / \\sigma_{1, t} \\\\\n",
    "r_{2, t} / \\sigma_{2, t}\n",
    "\\end{array}\\right]$$"
   ]
  },
  {
   "cell_type": "markdown",
   "id": "1a03d610",
   "metadata": {},
   "source": [
    "The formula and estimation of $\\sigma_{1,t}$ and $\\sigma_{2,t}$ is the same with CCC model, the only difference is that $\\rho_{t}$ is time-varing."
   ]
  },
  {
   "cell_type": "code",
   "execution_count": 13,
   "id": "3b8b4230",
   "metadata": {},
   "outputs": [],
   "source": [
    "pre3=[]\n",
    "for i in range(10):\n",
    "    data=df[:-10+i]\n",
    "    vol3 = vgarch.DCC()\n",
    "    est3 = vol3.fit(data)\n",
    "    cov_nextday = vol3.predict(1)[\"cov\"][0][1]\n",
    "    pre3.append(cov_nextday)"
   ]
  },
  {
   "cell_type": "code",
   "execution_count": 14,
   "id": "909a9f07",
   "metadata": {},
   "outputs": [
    {
     "data": {
      "text/plain": [
       "{'mu': matrix([[0.00251846, 0.00083506]]),\n",
       " 'alpha': 0.00044304159836986557,\n",
       " 'beta': 1e-06}"
      ]
     },
     "execution_count": 14,
     "metadata": {},
     "output_type": "execute_result"
    }
   ],
   "source": [
    "est3"
   ]
  },
  {
   "cell_type": "markdown",
   "id": "4012b7d8",
   "metadata": {},
   "source": [
    "The estimation result is :"
   ]
  },
  {
   "cell_type": "markdown",
   "id": "6cc1aae2",
   "metadata": {},
   "source": [
    "$$Q_{t}=0.99956 \\cdot \\bar{Q}+0.00044 \\cdot \\epsilon_{t-1} \\epsilon_{t-1}^{\\prime}+0.000001 \\cdot Q_{t-1}$$"
   ]
  },
  {
   "cell_type": "markdown",
   "id": "da0404ef",
   "metadata": {},
   "source": [
    "From the estimation result we can see that the coefficient of $\\bar{Q}$ is nearly 1 so that $\\bar{Q_{t}}$ changes a little over time. It can be concluded that DCC has little difference with CCC here."
   ]
  },
  {
   "cell_type": "code",
   "execution_count": 15,
   "id": "d17a31a9",
   "metadata": {},
   "outputs": [
    {
     "data": {
      "image/png": "[encoded data removed]",
      "text/plain": [
       "<Figure size 1080x360 with 1 Axes>"
      ]
     },
     "metadata": {
      "needs_background": "light"
     },
     "output_type": "display_data"
    }
   ],
   "source": [
    "plt.figure(figsize=(15,5))\n",
    "x=test.index\n",
    "plt.plot(x,pre3,'r',label='predict_covariance(DCC)')\n",
    "plt.legend()\n",
    "plt.show()"
   ]
  }
 ],
 "metadata": {
  "kernelspec": {
   "display_name": "Python 3 (ipykernel)",
   "language": "python",
   "name": "python3"
  },
  "language_info": {
   "codemirror_mode": {
    "name": "ipython",
    "version": 3
   },
   "file_extension": ".py",
   "mimetype": "text/x-python",
   "name": "python",
   "nbconvert_exporter": "python",
   "pygments_lexer": "ipython3",
   "version": "3.9.7"
  }
 },
 "nbformat": 4,
 "nbformat_minor": 5
}
